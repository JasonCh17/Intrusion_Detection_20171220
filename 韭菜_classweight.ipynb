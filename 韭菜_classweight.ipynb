{
 "cells": [
  {
   "cell_type": "code",
   "execution_count": 10,
   "metadata": {
    "collapsed": true
   },
   "outputs": [],
   "source": [
    "# 读取数据\n",
    "import time\n",
    "import pandas as pd #数据分析\n",
    "import matplotlib.pyplot as plt\n",
    "import numpy as np\n",
    "#混淆矩阵\n",
    "def plot_confusion_matrix(cm, classes,\n",
    "                          title='Confusion matrix',\n",
    "                          cmap=plt.cm.Blues):\n",
    "    \"\"\"\n",
    "    This function prints and plots the confusion matrix.\n",
    "    \"\"\"\n",
    "    import itertools\n",
    "    plt.imshow(cm, interpolation='nearest', cmap=cmap)\n",
    "    plt.title(title)\n",
    "    # plt.colorbar()\n",
    "    tick_marks = np.arange(len(classes))\n",
    "    plt.xticks(tick_marks, classes, rotation=0)\n",
    "    plt.yticks(tick_marks, classes)\n",
    "\n",
    "    thresh = cm.max() / 2.\n",
    "    for i, j in itertools.product(range(cm.shape[0]), range(cm.shape[1])):\n",
    "        plt.text(j, i, cm[i, j],\n",
    "                 horizontalalignment=\"center\",\n",
    "                 color=\"white\" if cm[i, j] > thresh else \"black\")\n",
    "\n",
    "    plt.tight_layout()\n",
    "    plt.ylabel('True label')\n",
    "    plt.xlabel('Predicted label')\n",
    "time_start=time.time()\n",
    "col_names = [\"duration\",\"protocol_type\",\"service\",\"flag\",\"src_bytes\",\n",
    "    \"dst_bytes\",\"land\",\"wrong_fragment\",\"urgent\",\"hot\",\"num_failed_logins\",\n",
    "    \"logged_in\",\"num_compromised\",\"root_shell\",\"su_attempted\",\"num_root\",\n",
    "    \"num_file_creations\",\"num_shells\",\"num_access_files\",\"num_outbound_cmds\",\n",
    "    \"is_host_login\",\"is_guest_login\",\"count\",\"srv_count\",\"serror_rate\",\n",
    "    \"srv_serror_rate\",\"rerror_rate\",\"srv_rerror_rate\",\"same_srv_rate\",\n",
    "    \"diff_srv_rate\",\"srv_diff_host_rate\",\"dst_host_count\",\"dst_host_srv_count\",\n",
    "    \"dst_host_same_srv_rate\",\"dst_host_diff_srv_rate\",\"dst_host_same_src_port_rate\",\n",
    "    \"dst_host_srv_diff_host_rate\",\"dst_host_serror_rate\",\"dst_host_srv_serror_rate\",\n",
    "    \"dst_host_rerror_rate\",\"dst_host_srv_rerror_rate\",\"label\"]\n",
    "data= pd.read_csv(\"E:\\Pycharm\\Intrusion_Detection\\kddcup.data_10_percent.csv\",  header=None,names = col_names)\n",
    "\n",
    "#去重\n",
    "# import matplotlib.pyplot as plt\n",
    "# IsDuplicated=data.duplicated()\n",
    "#\n",
    "# IsDuplicated.value_counts().plot(kind='bar')\n",
    "# plt.show()\n",
    "data_1=data.drop_duplicates()\n",
    "\n",
    "#one-hot\n",
    "dummies_protocol = pd.get_dummies(data_1[\"protocol_type\"], prefix='protocol')\n",
    "dummies_flag = pd.get_dummies(data_1[\"flag\"], prefix='flag')\n",
    "# dummies_service = pd.get_dummies(data_1[\"service\"], prefix='service')\n",
    "# data_2 = pd.concat([data_1, dummies_protocol,dummies_flag,dummies_service], axis=1)\n",
    "data_2 = pd.concat([data_1, dummies_protocol,dummies_flag], axis=1)\n",
    "# data_2\n",
    "#特征选择(by \"A feature reduced intrusion detection system using ANN classifier\",25个特征）\n",
    "#建立X,y\n",
    "feature_selection=[\"duration\",\n",
    "    \"dst_bytes\",\"wrong_fragment\",\"urgent\",\"hot\",\"num_failed_logins\",\n",
    "    \"logged_in\",\"num_compromised\",\"root_shell\",\"su_attempted\",\"num_access_files\",\n",
    "    \"num_outbound_cmds\",\"is_guest_login\",\"rerror_rate\",\"srv_diff_host_rate\",\n",
    "    \"dst_host_count\",\"dst_host_srv_count\",\"dst_host_same_srv_rate\",\n",
    "    \"dst_host_srv_diff_host_rate\",\"dst_host_serror_rate\",\"dst_host_srv_serror_rate\",\n",
    "    \"dst_host_rerror_rate\",\"dst_host_srv_rerror_rate\",\n",
    "    \"protocol_icmp\",\"protocol_tcp\",\"protocol_udp\",\n",
    "    \"flag_OTH\",\"flag_REJ\",\"flag_RSTO\",\"flag_RSTOS0\",\"flag_RSTR\",\n",
    "    \"flag_S0\",\"flag_S1\",\"flag_S2\",\"flag_S3\",\"flag_SF\",\"flag_SH\"]\n",
    "X_3=data_2[feature_selection]\n",
    "y_3=data_2['label'].copy()   #一维\n",
    "##y的处理\n",
    "u2r=[\"buffer_overflow.\",\"loadmodule.\",\"perl.\",\"rootkit.\"]\n",
    "r2l=[\"ftp_write.\",\"imap.\",\"guess_passwd.\",\"phf.\",\"spy.\",\"multihop.\",\"warezmaster.\",\"warezclient.\"]\n",
    "dos=[\"back.\",\"land.\",\"pod.\",\"neptune.\",\"smurf.\",\"teardrop.\"]\n",
    "probe=[\"satan.\",\"portsweep.\",\"ipsweep.\",\"nmap.\"]\n",
    "for i in u2r:\n",
    "    y_3[y_3==i]='U2R' #u2r\n",
    "for i in r2l:\n",
    "    y_3[y_3==i]='R2L' #r2l\n",
    "for i in dos:\n",
    "    y_3[y_3==i]='DOS'  #dos\n",
    "for i in probe:\n",
    "    y_3[y_3==i]='Probing' #probe\n",
    "y_3[y_3==\"normal.\"]='Normal' #normal\n",
    "y_3=np.array(y_3)  #变成array格式，一维\n",
    "#baseline\n",
    "#标准化\n",
    "from sklearn.preprocessing import StandardScaler\n",
    "scaler_base=StandardScaler().fit(X_3)\n",
    "X_b=scaler_base.transform(X_3)  #X是ndarray，二维\n",
    "\n",
    "from sklearn.model_selection import train_test_split\n",
    "X_train,X_test,y_train,y_test=train_test_split(X_b,y_3,test_size=0.2,random_state=0)  #切分样本\n",
    "#分类器\n",
    "from sklearn.ensemble import RandomForestClassifier\n",
    "##建立模型\n",
    "weight={'Normal':1,'DOS':1,'Probing':5,'R2L':8,'U2R':100}\n",
    "clf_1 = RandomForestClassifier(n_estimators=100,class_weight='balanced')\n",
    "\n",
    "#学习曲线\n",
    "import numpy as np\n",
    "from sklearn.model_selection import learning_curve\n",
    "train_sizes,train_scores,test_scores=learning_curve(estimator=clf_1,\n",
    "                                X=X_train,y=y_train,\n",
    "                                train_sizes=np.linspace(0.05,1,10),\n",
    "                                 cv=10, n_jobs=1,random_state=0)\n",
    "train_mean=np.mean(train_scores,axis=1)\n",
    "test_mean=np.mean(test_scores,axis=1)\n",
    "train_std=np.std(train_scores,axis=1)\n",
    "test_std=np.std(train_scores,axis=1)\n",
    "\n",
    "#验证测试样本\n",
    "clf_1.fit(X_train,y_train)\n",
    "preditions_base=clf_1.predict(X_test)"
   ]
  },
  {
   "cell_type": "code",
   "execution_count": 11,
   "metadata": {},
   "outputs": [
    {
     "data": {
      "text/plain": [
       "RandomForestClassifier(bootstrap=True, class_weight='balanced',\n            criterion='gini', max_depth=None, max_features='auto',\n            max_leaf_nodes=None, min_impurity_decrease=0.0,\n            min_impurity_split=None, min_samples_leaf=1,\n            min_samples_split=2, min_weight_fraction_leaf=0.0,\n            n_estimators=100, n_jobs=1, oob_score=False, random_state=None,\n            verbose=0, warm_start=False)"
      ]
     },
     "execution_count": 11,
     "metadata": {},
     "output_type": "execute_result"
    }
   ],
   "source": [
    "clf_1"
   ]
  },
  {
   "cell_type": "code",
   "execution_count": 12,
   "metadata": {},
   "outputs": [
    {
     "data": {
      "image/png": "[encoded data removed]",
      "text/plain": [
       "<matplotlib.figure.Figure at 0xdc309f5240>"
      ]
     },
     "metadata": {},
     "output_type": "display_data"
    },
    {
     "name": "stdout",
     "output_type": "stream",
     "text": [
      " Baseline\n[ 0.99238399  0.99248711  0.9924785   0.9938178   0.99590444  0.99647115\n  0.99636812  0.99644538  0.99647113  0.99656558]\n             precision    recall  f1-score   support\n\n        DOS   0.998805  0.997796  0.998300     10888\n     Normal   0.997271  0.997441  0.997356     17583\n    Probing   0.917620  0.947991  0.932558       423\n        R2L   0.976636  0.967593  0.972093       216\n        U2R   1.000000  0.500000  0.666667         8\n\navg / total   0.996535  0.996497  0.996489     29118\n\n--------------------------------------------------------------------------------\n"
     ]
    }
   ],
   "source": [
    "#混淆矩阵\n",
    "from sklearn.metrics import confusion_matrix\n",
    "cnf_matrix=confusion_matrix(y_test,preditions_base)\n",
    "class_names=['DOS','Normal','Probing','R2L','U2R']\n",
    "plt.figure()\n",
    "plot_confusion_matrix(cnf_matrix,classes=class_names,title=' Baseline Confusion matrix')\n",
    "plt.show()\n",
    "#分类报告\n",
    "from sklearn.metrics import classification_report\n",
    "class_names=['DOS','Normal','Probing','R2L','U2R']\n",
    "print(\" Baseline\")\n",
    "print(test_mean)\n",
    "print(classification_report(y_test,preditions_base,target_names=class_names,digits=6))\n",
    "print(\"--------------------------------------------------------------------------------\")\n",
    "\n",
    "###########################################################################"
   ]
  },
  {
   "cell_type": "code",
   "execution_count": null,
   "metadata": {},
   "outputs": [],
   "source": [
    "F1 [ 0.76430167  0.83203426  0.81529779  0.83581817  0.85301369  0.87037016\n",
    "  0.89157948  0.88322556  0.87629     0.8746277   0.86690248  0.88798783\n",
    "  0.8699709   0.8818697   0.87989962  0.87902588  0.88852094  0.88644534\n",
    "  0.89822216  0.88619065]\n",
    "Precison [ 0.84397767  0.87181966  0.93919204  0.87197454  0.92841614  0.91940086\n",
    "  0.90725196  0.96079284  0.94832294  0.97424257  0.93763409  0.93667666\n",
    "  0.93658358  0.97022529  0.9193942   0.98049177  0.95131546  0.95175241\n",
    "  0.95712145  0.95441218]\n",
    "Recall [ 0.75195969  0.78998676  0.79476607  0.80882212  0.82633557  0.83309631\n",
    "  0.82898056  0.85106294  0.84761227  0.84382714  0.84343839  0.84906749\n",
    "  0.86375065  0.8574967   0.85019742  0.85733441  0.86927166  0.85676001\n",
    "  0.87157823  0.86038481]"
   ]
  }
 ],
 "metadata": {
  "kernelspec": {
   "display_name": "Python 2",
   "language": "python",
   "name": "python2"
  },
  "language_info": {
   "codemirror_mode": {
    "name": "ipython",
    "version": 2.0
   },
   "file_extension": ".py",
   "mimetype": "text/x-python",
   "name": "python",
   "nbconvert_exporter": "python",
   "pygments_lexer": "ipython2",
   "version": "2.7.6"
  }
 },
 "nbformat": 4,
 "nbformat_minor": 0
}