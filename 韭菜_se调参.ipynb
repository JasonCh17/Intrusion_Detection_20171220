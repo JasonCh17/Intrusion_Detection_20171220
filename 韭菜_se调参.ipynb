{
 "cells": [
  {
   "cell_type": "code",
   "execution_count": 13,
   "metadata": {
    "collapsed": true
   },
   "outputs": [
    {
     "name": "stderr",
     "output_type": "stream",
     "text": [
      "C:\\Users\\Jason\\Anaconda3\\lib\\site-packages\\imblearn\\utils\\deprecation.py:50: DeprecationWarning: 'k' is deprecated from 0.2 and will be removed in 0.4. Use 'k_neighbors' instead.\n  category=DeprecationWarning)\nC:\\Users\\Jason\\Anaconda3\\lib\\site-packages\\imblearn\\utils\\deprecation.py:50: DeprecationWarning: 'm' is deprecated from 0.2 and will be removed in 0.4. Use 'm_neighbors' instead.\n  category=DeprecationWarning)\n"
     ]
    },
    {
     "name": "stdout",
     "output_type": "stream",
     "text": [
      "{'std_train_score': array([ 0.,  0.,  0.,  0.,  0.,  0.,  0.,  0.,  0.,  0.,  0.,  0.,  0.,\n        0.,  0.,  0.,  0.,  0.,  0.,  0.,  0.,  0.,  0.,  0.,  0.,  0.,\n        0.,  0.,  0.,  0.,  0.,  0.,  0.,  0.,  0.,  0.,  0.,  0.,  0.,\n        0.,  0.,  0.,  0.,  0.,  0.,  0.,  0.,  0.,  0.]), 'split5_train_score': array([ 1.,  1.,  1.,  1.,  1.,  1.,  1.,  1.,  1.,  1.,  1.,  1.,  1.,\n        1.,  1.,  1.,  1.,  1.,  1.,  1.,  1.,  1.,  1.,  1.,  1.,  1.,\n        1.,  1.,  1.,  1.,  1.,  1.,  1.,  1.,  1.,  1.,  1.,  1.,  1.,\n        1.,  1.,  1.,  1.,  1.,  1.,  1.,  1.,  1.,  1.]), 'split5_test_score': array([ 1.,  1.,  1.,  1.,  1.,  1.,  1.,  1.,  1.,  1.,  1.,  1.,  1.,\n        1.,  1.,  1.,  1.,  1.,  1.,  1.,  1.,  1.,  1.,  1.,  1.,  1.,\n        1.,  1.,  1.,  1.,  1.,  1.,  1.,  1.,  1.,  1.,  1.,  1.,  1.,\n        1.,  1.,  1.,  1.,  1.,  1.,  1.,  1.,  1.,  1.]), 'std_test_score': array([  4.35450381e-05,   5.54791738e-05,   4.90266844e-05,\n         4.59331835e-05,   4.90266844e-05,   4.68684030e-05,\n         4.90266844e-05,   4.68684030e-05,   4.90266844e-05,\n         4.68684030e-05,   4.90266844e-05,   4.90266844e-05,\n         4.68684030e-05,   4.90266844e-05,   4.68684030e-05,\n         4.90266844e-05,   4.68684030e-05,   4.68684030e-05,\n         4.90266844e-05,   4.68684030e-05,   4.68684030e-05,\n         4.68684030e-05,   4.68684030e-05,   4.68684030e-05,\n         4.68684030e-05,   4.68684030e-05,   4.68684030e-05,\n         4.90266844e-05,   4.68684030e-05,   4.90266844e-05,\n         4.68684030e-05,   4.68684030e-05,   4.59331835e-05,\n         4.68684030e-05,   4.68684030e-05,   4.90266844e-05,\n         4.68684030e-05,   4.59331835e-05,   4.68684030e-05,\n         4.68684030e-05,   4.90266844e-05,   4.90266844e-05,\n         4.68684030e-05,   4.68684030e-05,   4.68684030e-05,\n         4.90266844e-05,   4.68684030e-05,   4.68684030e-05,\n         4.68684030e-05]), 'split4_test_score': array([ 0.9998708 ,  0.99984497,  0.99984497,  0.99984497,  0.99984497,\n        0.99984497,  0.99984497,  0.99984497,  0.99984497,  0.99984497,\n        0.99984497,  0.99984497,  0.99984497,  0.99984497,  0.99984497,\n        0.99984497,  0.99984497,  0.99984497,  0.99984497,  0.99984497,\n        0.99984497,  0.99984497,  0.99984497,  0.99984497,  0.99984497,\n        0.99984497,  0.99984497,  0.99984497,  0.99984497,  0.99984497,\n        0.99984497,  0.99984497,  0.99984497,  0.99984497,  0.99984497,\n        0.99984497,  0.99984497,  0.99984497,  0.99984497,  0.99984497,\n        0.99984497,  0.99984497,  0.99984497,  0.99984497,  0.99984497,\n        0.99984497,  0.99984497,  0.99984497,  0.99984497]), 'split7_test_score': array([ 1.,  1.,  1.,  1.,  1.,  1.,  1.,  1.,  1.,  1.,  1.,  1.,  1.,\n        1.,  1.,  1.,  1.,  1.,  1.,  1.,  1.,  1.,  1.,  1.,  1.,  1.,\n        1.,  1.,  1.,  1.,  1.,  1.,  1.,  1.,  1.,  1.,  1.,  1.,  1.,\n        1.,  1.,  1.,  1.,  1.,  1.,  1.,  1.,  1.,  1.]), 'split9_train_score': array([ 1.,  1.,  1.,  1.,  1.,  1.,  1.,  1.,  1.,  1.,  1.,  1.,  1.,\n        1.,  1.,  1.,  1.,  1.,  1.,  1.,  1.,  1.,  1.,  1.,  1.,  1.,\n        1.,  1.,  1.,  1.,  1.,  1.,  1.,  1.,  1.,  1.,  1.,  1.,  1.,\n        1.,  1.,  1.,  1.,  1.,  1.,  1.,  1.,  1.,  1.]), 'split0_train_score': array([ 1.,  1.,  1.,  1.,  1.,  1.,  1.,  1.,  1.,  1.,  1.,  1.,  1.,\n        1.,  1.,  1.,  1.,  1.,  1.,  1.,  1.,  1.,  1.,  1.,  1.,  1.,\n        1.,  1.,  1.,  1.,  1.,  1.,  1.,  1.,  1.,  1.,  1.,  1.,  1.,\n        1.,  1.,  1.,  1.,  1.,  1.,  1.,  1.,  1.,  1.]), 'mean_fit_time': array([   3.78757033,    6.88640122,   10.01351397,   13.40293562,\n         16.39398527,   19.65845795,   22.73884318,   26.01353669,\n         29.11007965,   32.42840576,   35.41824036,   38.66607642,\n         42.11283343,   45.00160952,   48.01231539,   51.41065395,\n         54.68133945,   57.51878998,   61.00915408,   64.02368062,\n         67.26570179,   70.00396657,   73.69087815,   76.64903815,\n         79.94238944,   83.01043932,   86.92955976,   90.42144732,\n         92.94695745,   95.61835539,   99.06130738,  102.9047616 ,\n        105.37556973,  108.61350121,  111.47752528,  114.94975178,\n        117.98932009,  120.75698059,  124.20023043,  127.16741731,\n        130.42246938,  133.41183269,  136.88002887,  139.83870425,\n        143.33509607,  146.32815449,  149.20369244,  153.07309158,\n        155.62597573]), 'split6_train_score': array([ 1.,  1.,  1.,  1.,  1.,  1.,  1.,  1.,  1.,  1.,  1.,  1.,  1.,\n        1.,  1.,  1.,  1.,  1.,  1.,  1.,  1.,  1.,  1.,  1.,  1.,  1.,\n        1.,  1.,  1.,  1.,  1.,  1.,  1.,  1.,  1.,  1.,  1.,  1.,  1.,\n        1.,  1.,  1.,  1.,  1.,  1.,  1.,  1.,  1.,  1.]), 'split7_train_score': array([ 1.,  1.,  1.,  1.,  1.,  1.,  1.,  1.,  1.,  1.,  1.,  1.,  1.,\n        1.,  1.,  1.,  1.,  1.,  1.,  1.,  1.,  1.,  1.,  1.,  1.,  1.,\n        1.,  1.,  1.,  1.,  1.,  1.,  1.,  1.,  1.,  1.,  1.,  1.,  1.,\n        1.,  1.,  1.,  1.,  1.,  1.,  1.,  1.,  1.,  1.]), 'mean_test_score': array([ 0.99996382,  0.99996641,  0.99997416,  0.99997933,  0.99997416,\n        0.99997674,  0.99997416,  0.99997674,  0.99997416,  0.99997674,\n        0.99997416,  0.99997416,  0.99997674,  0.99997416,  0.99997674,\n        0.99997416,  0.99997674,  0.99997674,  0.99997416,  0.99997674,\n        0.99997674,  0.99997674,  0.99997674,  0.99997674,  0.99997674,\n        0.99997674,  0.99997674,  0.99997416,  0.99997674,  0.99997416,\n        0.99997674,  0.99997674,  0.99997933,  0.99997674,  0.99997674,\n        0.99997416,  0.99997674,  0.99997933,  0.99997674,  0.99997674,\n        0.99997416,  0.99997416,  0.99997674,  0.99997674,  0.99997674,\n        0.99997416,  0.99997674,  0.99997674,  0.99997674]), 'split3_test_score': array([ 0.99997416,  0.99997416,  0.99997416,  0.99997416,  0.99997416,\n        0.99997416,  0.99997416,  0.99997416,  0.99997416,  0.99997416,\n        0.99997416,  0.99997416,  0.99997416,  0.99997416,  0.99997416,\n        0.99997416,  0.99997416,  0.99997416,  0.99997416,  0.99997416,\n        0.99997416,  0.99997416,  0.99997416,  0.99997416,  0.99997416,\n        0.99997416,  0.99997416,  0.99997416,  0.99997416,  0.99997416,\n        0.99997416,  0.99997416,  0.99997416,  0.99997416,  0.99997416,\n        0.99997416,  0.99997416,  0.99997416,  0.99997416,  0.99997416,\n        0.99997416,  0.99997416,  0.99997416,  0.99997416,  0.99997416,\n        0.99997416,  0.99997416,  0.99997416,  0.99997416]), 'std_fit_time': array([ 0.09790023,  0.21538775,  0.14909776,  0.19126743,  0.24581049,\n        0.19936737,  0.22819856,  0.34309635,  0.35130251,  0.30151802,\n        0.42465588,  0.30027048,  0.62377892,  0.34881069,  0.36072046,\n        0.30777596,  0.3924683 ,  0.46525869,  0.70352366,  0.30182119,\n        0.58460056,  0.35415033,  0.59752652,  0.49978652,  0.8567061 ,\n        0.55548073,  1.02952854,  0.8304911 ,  0.54133153,  0.65383986,\n        0.77128195,  1.43202365,  1.18941619,  0.57155592,  0.7695269 ,\n        0.74230854,  0.72926555,  0.59684836,  0.72710339,  0.74766786,\n        0.82896012,  0.79685937,  0.91573921,  0.87490916,  0.76377206,\n        0.76740596,  1.06447156,  0.7329517 ,  0.51701418]), 'mean_score_time': array([ 0.07871869,  0.11371069,  0.14930444,  0.18468692,  0.21938834,\n        0.25778635,  0.29239085,  0.32768056,  0.36187713,  0.39886193,\n        0.43496425,  0.4694561 ,  0.51248105,  0.54285426,  0.57553871,\n        0.61143956,  0.65013626,  0.6816227 ,  0.72374027,  0.75250869,\n        0.78859918,  0.82129416,  0.86350477,  0.9000036 ,  0.93319147,\n        0.9689841 ,  1.01651022,  1.05351093,  1.07537565,  1.11537013,\n        1.14094079,  1.2098933 ,  1.22626595,  1.25614738,  1.28521934,\n        1.32381577,  1.36424077,  1.39451463,  1.42659512,  1.46871438,\n        1.50049841,  1.54330237,  1.58442438,  1.60498326,  1.64237969,\n        1.67776246,  1.71728239,  1.7628828 ,  1.78694649]), 'param_n_estimators': masked_array(data = [10 20 30 40 50 60 70 80 90 100 110 120 130 140 150 160 170 180 190 200 210\n 220 230 240 250 260 270 280 290 300 310 320 330 340 350 360 370 380 390\n 400 410 420 430 440 450 460 470 480 490],\n             mask = [False False False False False False False False False False False False\n False False False False False False False False False False False False\n False False False False False False False False False False False False\n False False False False False False False False False False False False\n False],\n       fill_value = ?)\n, 'split6_test_score': array([ 1.,  1.,  1.,  1.,  1.,  1.,  1.,  1.,  1.,  1.,  1.,  1.,  1.,\n        1.,  1.,  1.,  1.,  1.,  1.,  1.,  1.,  1.,  1.,  1.,  1.,  1.,\n        1.,  1.,  1.,  1.,  1.,  1.,  1.,  1.,  1.,  1.,  1.,  1.,  1.,\n        1.,  1.,  1.,  1.,  1.,  1.,  1.,  1.,  1.,  1.]), 'params': [{'n_estimators': 10}, {'n_estimators': 20}, {'n_estimators': 30}, {'n_estimators': 40}, {'n_estimators': 50}, {'n_estimators': 60}, {'n_estimators': 70}, {'n_estimators': 80}, {'n_estimators': 90}, {'n_estimators': 100}, {'n_estimators': 110}, {'n_estimators': 120}, {'n_estimators': 130}, {'n_estimators': 140}, {'n_estimators': 150}, {'n_estimators': 160}, {'n_estimators': 170}, {'n_estimators': 180}, {'n_estimators': 190}, {'n_estimators': 200}, {'n_estimators': 210}, {'n_estimators': 220}, {'n_estimators': 230}, {'n_estimators': 240}, {'n_estimators': 250}, {'n_estimators': 260}, {'n_estimators': 270}, {'n_estimators': 280}, {'n_estimators': 290}, {'n_estimators': 300}, {'n_estimators': 310}, {'n_estimators': 320}, {'n_estimators': 330}, {'n_estimators': 340}, {'n_estimators': 350}, {'n_estimators': 360}, {'n_estimators': 370}, {'n_estimators': 380}, {'n_estimators': 390}, {'n_estimators': 400}, {'n_estimators': 410}, {'n_estimators': 420}, {'n_estimators': 430}, {'n_estimators': 440}, {'n_estimators': 450}, {'n_estimators': 460}, {'n_estimators': 470}, {'n_estimators': 480}, {'n_estimators': 490}], 'split0_test_score': array([ 0.99989665,  0.99987081,  0.99992248,  0.99997416,  0.99992248,\n        0.99994832,  0.99992248,  0.99994832,  0.99992248,  0.99994832,\n        0.99992248,  0.99992248,  0.99994832,  0.99992248,  0.99994832,\n        0.99992248,  0.99994832,  0.99994832,  0.99992248,  0.99994832,\n        0.99994832,  0.99994832,  0.99994832,  0.99994832,  0.99994832,\n        0.99994832,  0.99994832,  0.99992248,  0.99994832,  0.99992248,\n        0.99994832,  0.99994832,  0.99997416,  0.99994832,  0.99994832,\n        0.99992248,  0.99994832,  0.99997416,  0.99994832,  0.99994832,\n        0.99992248,  0.99992248,  0.99994832,  0.99994832,  0.99994832,\n        0.99992248,  0.99994832,  0.99994832,  0.99994832]), 'split2_test_score': array([ 0.99997416,  1.        ,  1.        ,  1.        ,  1.        ,\n        1.        ,  1.        ,  1.        ,  1.        ,  1.        ,\n        1.        ,  1.        ,  1.        ,  1.        ,  1.        ,\n        1.        ,  1.        ,  1.        ,  1.        ,  1.        ,\n        1.        ,  1.        ,  1.        ,  1.        ,  1.        ,\n        1.        ,  1.        ,  1.        ,  1.        ,  1.        ,\n        1.        ,  1.        ,  1.        ,  1.        ,  1.        ,\n        1.        ,  1.        ,  1.        ,  1.        ,  1.        ,\n        1.        ,  1.        ,  1.        ,  1.        ,  1.        ,\n        1.        ,  1.        ,  1.        ,  1.        ]), 'split8_test_score': array([ 1.        ,  0.99997416,  1.        ,  1.        ,  1.        ,\n        1.        ,  1.        ,  1.        ,  1.        ,  1.        ,\n        1.        ,  1.        ,  1.        ,  1.        ,  1.        ,\n        1.        ,  1.        ,  1.        ,  1.        ,  1.        ,\n        1.        ,  1.        ,  1.        ,  1.        ,  1.        ,\n        1.        ,  1.        ,  1.        ,  1.        ,  1.        ,\n        1.        ,  1.        ,  1.        ,  1.        ,  1.        ,\n        1.        ,  1.        ,  1.        ,  1.        ,  1.        ,\n        1.        ,  1.        ,  1.        ,  1.        ,  1.        ,\n        1.        ,  1.        ,  1.        ,  1.        ]), 'split3_train_score': array([ 1.,  1.,  1.,  1.,  1.,  1.,  1.,  1.,  1.,  1.,  1.,  1.,  1.,\n        1.,  1.,  1.,  1.,  1.,  1.,  1.,  1.,  1.,  1.,  1.,  1.,  1.,\n        1.,  1.,  1.,  1.,  1.,  1.,  1.,  1.,  1.,  1.,  1.,  1.,  1.,\n        1.,  1.,  1.,  1.,  1.,  1.,  1.,  1.,  1.,  1.]), 'std_score_time': array([ 0.0014341 ,  0.00257239,  0.00373923,  0.00416431,  0.00261139,\n        0.00444779,  0.00472944,  0.00366913,  0.00663072,  0.00755631,\n        0.007614  ,  0.00455971,  0.02434355,  0.00975652,  0.00696263,\n        0.00586994,  0.01491334,  0.00739346,  0.00900038,  0.00756281,\n        0.0155116 ,  0.00691278,  0.01137319,  0.01320007,  0.00975817,\n        0.01757727,  0.01944852,  0.02012785,  0.01255307,  0.01805959,\n        0.01651388,  0.0438077 ,  0.01624689,  0.01998009,  0.01706163,\n        0.02203372,  0.02223463,  0.0200298 ,  0.01308391,  0.0186897 ,\n        0.02126402,  0.02632647,  0.02739672,  0.02390013,  0.01943587,\n        0.01724235,  0.01524514,  0.04643763,  0.02038728]), 'split1_train_score': array([ 1.,  1.,  1.,  1.,  1.,  1.,  1.,  1.,  1.,  1.,  1.,  1.,  1.,\n        1.,  1.,  1.,  1.,  1.,  1.,  1.,  1.,  1.,  1.,  1.,  1.,  1.,\n        1.,  1.,  1.,  1.,  1.,  1.,  1.,  1.,  1.,  1.,  1.,  1.,  1.,\n        1.,  1.,  1.,  1.,  1.,  1.,  1.,  1.,  1.,  1.]), 'split9_test_score': array([ 0.99994832,  1.        ,  1.        ,  1.        ,  1.        ,\n        1.        ,  1.        ,  1.        ,  1.        ,  1.        ,\n        1.        ,  1.        ,  1.        ,  1.        ,  1.        ,\n        1.        ,  1.        ,  1.        ,  1.        ,  1.        ,\n        1.        ,  1.        ,  1.        ,  1.        ,  1.        ,\n        1.        ,  1.        ,  1.        ,  1.        ,  1.        ,\n        1.        ,  1.        ,  1.        ,  1.        ,  1.        ,\n        1.        ,  1.        ,  1.        ,  1.        ,  1.        ,\n        1.        ,  1.        ,  1.        ,  1.        ,  1.        ,\n        1.        ,  1.        ,  1.        ,  1.        ]), 'split1_test_score': array([ 0.99997416,  1.        ,  1.        ,  1.        ,  1.        ,\n        1.        ,  1.        ,  1.        ,  1.        ,  1.        ,\n        1.        ,  1.        ,  1.        ,  1.        ,  1.        ,\n        1.        ,  1.        ,  1.        ,  1.        ,  1.        ,\n        1.        ,  1.        ,  1.        ,  1.        ,  1.        ,\n        1.        ,  1.        ,  1.        ,  1.        ,  1.        ,\n        1.        ,  1.        ,  1.        ,  1.        ,  1.        ,\n        1.        ,  1.        ,  1.        ,  1.        ,  1.        ,\n        1.        ,  1.        ,  1.        ,  1.        ,  1.        ,\n        1.        ,  1.        ,  1.        ,  1.        ]), 'split4_train_score': array([ 1.,  1.,  1.,  1.,  1.,  1.,  1.,  1.,  1.,  1.,  1.,  1.,  1.,\n        1.,  1.,  1.,  1.,  1.,  1.,  1.,  1.,  1.,  1.,  1.,  1.,  1.,\n        1.,  1.,  1.,  1.,  1.,  1.,  1.,  1.,  1.,  1.,  1.,  1.,  1.,\n        1.,  1.,  1.,  1.,  1.,  1.,  1.,  1.,  1.,  1.]), 'rank_test_score': array([49, 48, 33,  1, 33,  4, 33,  4, 33,  4, 33, 33,  4, 33,  4, 33,  4,\n        4, 33,  4,  4,  4,  4,  4,  4,  4,  4, 33,  4, 33,  4,  4,  1,  4,\n        4, 33,  4,  1,  4,  4, 33, 33,  4,  4,  4, 33,  4,  4,  4]), 'split2_train_score': array([ 1.,  1.,  1.,  1.,  1.,  1.,  1.,  1.,  1.,  1.,  1.,  1.,  1.,\n        1.,  1.,  1.,  1.,  1.,  1.,  1.,  1.,  1.,  1.,  1.,  1.,  1.,\n        1.,  1.,  1.,  1.,  1.,  1.,  1.,  1.,  1.,  1.,  1.,  1.,  1.,\n        1.,  1.,  1.,  1.,  1.,  1.,  1.,  1.,  1.,  1.]), 'mean_train_score': array([ 1.,  1.,  1.,  1.,  1.,  1.,  1.,  1.,  1.,  1.,  1.,  1.,  1.,\n        1.,  1.,  1.,  1.,  1.,  1.,  1.,  1.,  1.,  1.,  1.,  1.,  1.,\n        1.,  1.,  1.,  1.,  1.,  1.,  1.,  1.,  1.,  1.,  1.,  1.,  1.,\n        1.,  1.,  1.,  1.,  1.,  1.,  1.,  1.,  1.,  1.]), 'split8_train_score': array([ 1.,  1.,  1.,  1.,  1.,  1.,  1.,  1.,  1.,  1.,  1.,  1.,  1.,\n        1.,  1.,  1.,  1.,  1.,  1.,  1.,  1.,  1.,  1.,  1.,  1.,  1.,\n        1.,  1.,  1.,  1.,  1.,  1.,  1.,  1.,  1.,  1.,  1.,  1.,  1.,\n        1.,  1.,  1.,  1.,  1.,  1.,  1.,  1.,  1.,  1.])}\n"
     ]
    }
   ],
   "source": [
    "# 读取数据\n",
    "import time\n",
    "import pandas as pd #数据分析\n",
    "import matplotlib.pyplot as plt\n",
    "import numpy as np\n",
    "from sklearn.ensemble import RandomForestClassifier\n",
    "#混淆矩阵\n",
    "def plot_confusion_matrix(cm, classes,\n",
    "                          title='Confusion matrix',\n",
    "                          cmap=plt.cm.Blues):\n",
    "    \"\"\"\n",
    "    This function prints and plots the confusion matrix.\n",
    "    \"\"\"\n",
    "    import itertools\n",
    "    plt.imshow(cm, interpolation='nearest', cmap=cmap)\n",
    "    plt.title(title)\n",
    "    # plt.colorbar()\n",
    "    tick_marks = np.arange(len(classes))\n",
    "    plt.xticks(tick_marks, classes, rotation=0)\n",
    "    plt.yticks(tick_marks, classes)\n",
    "\n",
    "    thresh = cm.max() / 2.\n",
    "    for i, j in itertools.product(range(cm.shape[0]), range(cm.shape[1])):\n",
    "        plt.text(j, i, cm[i, j],\n",
    "                 horizontalalignment=\"center\",\n",
    "                 color=\"white\" if cm[i, j] > thresh else \"black\")\n",
    "\n",
    "    plt.tight_layout()\n",
    "    plt.ylabel('True label')\n",
    "    plt.xlabel('Predicted label')\n",
    "time_start=time.time()\n",
    "#读取training data\n",
    "col_names = [\"duration\",\"protocol_type\",\"service\",\"flag\",\"src_bytes\",\n",
    "    \"dst_bytes\",\"land\",\"wrong_fragment\",\"urgent\",\"hot\",\"num_failed_logins\",\n",
    "    \"logged_in\",\"num_compromised\",\"root_shell\",\"su_attempted\",\"num_root\",\n",
    "    \"num_file_creations\",\"num_shells\",\"num_access_files\",\"num_outbound_cmds\",\n",
    "    \"is_host_login\",\"is_guest_login\",\"count\",\"srv_count\",\"serror_rate\",\n",
    "    \"srv_serror_rate\",\"rerror_rate\",\"srv_rerror_rate\",\"same_srv_rate\",\n",
    "    \"diff_srv_rate\",\"srv_diff_host_rate\",\"dst_host_count\",\"dst_host_srv_count\",\n",
    "    \"dst_host_same_srv_rate\",\"dst_host_diff_srv_rate\",\"dst_host_same_src_port_rate\",\n",
    "    \"dst_host_srv_diff_host_rate\",\"dst_host_serror_rate\",\"dst_host_srv_serror_rate\",\n",
    "    \"dst_host_rerror_rate\",\"dst_host_srv_rerror_rate\",\"label\"]\n",
    "data= pd.read_csv(\"E:\\Pycharm\\Intrusion_Detection\\kddcup.data_10_percent.csv\",  header=None,names = col_names)\n",
    "\n",
    "#去重\n",
    "data_1=data.drop_duplicates()\n",
    "\n",
    "#one-hot\n",
    "dummies_protocol = pd.get_dummies(data_1[\"protocol_type\"], prefix='protocol')\n",
    "dummies_flag = pd.get_dummies(data_1[\"flag\"], prefix='flag')\n",
    "data_2 = pd.concat([data_1, dummies_protocol,dummies_flag], axis=1)\n",
    "# data_2\n",
    "#特征选择(by \"A feature reduced intrusion detection system using ANN classifier\",25个特征）\n",
    "#建立X,y\n",
    "feature_selection=[\"duration\",\n",
    "    \"dst_bytes\",\"wrong_fragment\",\"urgent\",\"hot\",\"num_failed_logins\",\n",
    "    \"logged_in\",\"num_compromised\",\"root_shell\",\"su_attempted\",\"num_access_files\",\n",
    "    \"num_outbound_cmds\",\"is_guest_login\",\"rerror_rate\",\"srv_diff_host_rate\",\n",
    "    \"dst_host_count\",\"dst_host_srv_count\",\"dst_host_same_srv_rate\",\n",
    "    \"dst_host_srv_diff_host_rate\",\"dst_host_serror_rate\",\"dst_host_srv_serror_rate\",\n",
    "    \"dst_host_rerror_rate\",\"dst_host_srv_rerror_rate\",\n",
    "    \"protocol_icmp\",\"protocol_tcp\",\"protocol_udp\",\n",
    "    \"flag_OTH\",\"flag_REJ\",\"flag_RSTO\",\"flag_RSTOS0\",\"flag_RSTR\",\n",
    "    \"flag_S0\",\"flag_S1\",\"flag_S2\",\"flag_S3\",\"flag_SF\",\"flag_SH\"]\n",
    "X_3=data_2[feature_selection]\n",
    "y_3=data_2['label'].copy()   #一维\n",
    "##y的处理\n",
    "u2r=[\"buffer_overflow.\",\"loadmodule.\",\"perl.\",\"rootkit.\"]\n",
    "r2l=[\"ftp_write.\",\"imap.\",\"guess_passwd.\",\"phf.\",\"spy.\",\"multihop.\",\"warezmaster.\",\"warezclient.\"]\n",
    "dos=[\"back.\",\"land.\",\"pod.\",\"neptune.\",\"smurf.\",\"teardrop.\"]\n",
    "probe=[\"satan.\",\"portsweep.\",\"ipsweep.\",\"nmap.\"]\n",
    "for i in u2r:\n",
    "    y_3[y_3==i]='U2R' #u2r\n",
    "for i in r2l:\n",
    "    y_3[y_3==i]='R2L' #r2l\n",
    "for i in dos:\n",
    "    y_3[y_3==i]='DOS'  #dos\n",
    "for i in probe:\n",
    "    y_3[y_3==i]='Probing' #probe\n",
    "y_3[y_3==\"normal.\"]='Normal' #normal\n",
    "y_3=np.array(y_3)  #变成array格式，一维\n",
    "\n",
    "#读取test data\n",
    "data_test= pd.read_csv(\"E:\\Pycharm\\Intrusion_Detection\\corrected.csv\",  header=None,names = col_names)\n",
    "#去重\n",
    "data_test=data_test.drop_duplicates()\n",
    "#one-hot\n",
    "dummies_protocol = pd.get_dummies(data_test[\"protocol_type\"], prefix='protocol')\n",
    "dummies_flag = pd.get_dummies(data_test[\"flag\"], prefix='flag')\n",
    "data_test_2 = pd.concat([data_test, dummies_protocol,dummies_flag], axis=1)\n",
    "#特征选择(by \"A feature reduced intrusion detection system using ANN classifier\",25个特征）\n",
    "#建立X,y\n",
    "X_test=data_test_2[feature_selection]\n",
    "y_test=data_test_2['label'].copy()   #一维\n",
    "##y的处理\n",
    "u2r=[\"buffer_overflow.\",\"loadmodule.\",\"perl.\",\"rootkit.\",\"httptunnel.\",\"ps.\",\"sqlattack.\",\"xterm.\"]\n",
    "r2l=[\"ftp_write.\",\"imap.\",\"guess_passwd.\",\"phf.\",\"spy.\",\"multihop.\",\"warezmaster.\",\"warezclient.\",\"named.\",\"sendmail.\"\n",
    "    ,\"snmpgetattack.\",\"snmpguess.\",\"worm.\",\"xlock.\",\"xsnoop.\"]\n",
    "dos=[\"back.\",\"land.\",\"pod.\",\"neptune.\",\"smurf.\",\"teardrop.\",\"apache2.\",\"mailbomb.\",\"processtable.\",\"udpstorm.\"]\n",
    "probe=[\"satan.\",\"portsweep.\",\"ipsweep.\",\"nmap.\",\"mscan.\",\"saint.\"]\n",
    "for i in u2r:\n",
    "    y_test[y_test==i]=\"U2R\"\n",
    "for i in r2l:\n",
    "    y_test[y_test==i]=\"R2L\"\n",
    "for i in dos:\n",
    "    y_test[y_test==i]=\"DOS\"\n",
    "for i in probe:\n",
    "    y_test[y_test==i]=\"Probing\"\n",
    "y_test[y_test==\"normal.\"]=\"Normal\"\n",
    "y_test=np.array(y_test)  #变成array格式，一维\n",
    "#过采样+欠采样 smote+enn\n",
    "from imblearn.combine import SMOTEENN\n",
    "oversampler=SMOTEENN(random_state=42,n_neighbors=100)\n",
    "X_SMOTEENN,y_se=oversampler.fit_sample(X_3,y_3)\n",
    "X_test_SMOTEENN,y_test_se=oversampler.fit_sample(X_test,y_test)\n",
    "#标准化\n",
    "from sklearn.preprocessing import StandardScaler\n",
    "scaler_se=StandardScaler().fit(X_SMOTEENN)\n",
    "X_se=scaler_se.transform(X_SMOTEENN)  #X是ndarray\n",
    "X_test_se=scaler_se.transform(X_test_SMOTEENN)\n",
    "##建立模型\n",
    "clf_4 = RandomForestClassifier()\n",
    "from sklearn.model_selection import GridSearchCV\n",
    "x=range(10,500,10)\n",
    "param_test1 = {'n_estimators':x}\n",
    "gsearch1 = GridSearchCV(estimator = clf_4,\n",
    "param_grid = param_test1, scoring='accuracy',cv=10)\n",
    "gsearch1.fit(X_se,y_se)\n",
    "print(gsearch1.cv_results_)\n",
    "# #验证测试样本\n",
    "# clf_4.fit(X_se,y_se)\n",
    "# preditions_smoteenn=clf_4.predict(X_test_se)\n",
    "#\n",
    "# time_end=time.time()\n",
    "# print(time_end-time_start,'s')\n",
    "# #混淆矩阵\n",
    "# from sklearn.metrics import confusion_matrix\n",
    "# cnf_matrix_smoteenn=confusion_matrix(y_test_se,preditions_smoteenn)\n",
    "# class_names=['DOS','Normal','Probing','R2L','U2R']\n",
    "# plt.figure()\n",
    "# plt.figure()\n",
    "# plot_confusion_matrix(cnf_matrix_smoteenn,classes=class_names,title='SMOTE+ENN Confusion matrix')\n",
    "# #分类报告\n",
    "# from sklearn.metrics import classification_report\n",
    "# print(\" SMOTE+ENN\")\n",
    "# print(classification_report(y_test_se,preditions_smoteenn,target_names=class_names,digits=6))\n",
    "#\n",
    "# plt.show()"
   ]
  },
  {
   "cell_type": "code",
   "execution_count": 14,
   "metadata": {},
   "outputs": [
    {
     "name": "stdout",
     "output_type": "stream",
     "text": [
      "[ 0.99996382  0.99996641  0.99997416  0.99997933  0.99997416  0.99997674\n  0.99997416  0.99997674  0.99997416  0.99997674  0.99997416  0.99997416\n  0.99997674  0.99997416  0.99997674  0.99997416  0.99997674  0.99997674\n  0.99997416  0.99997674  0.99997674  0.99997674  0.99997674  0.99997674\n  0.99997674  0.99997674  0.99997674  0.99997416  0.99997674  0.99997416\n  0.99997674  0.99997674  0.99997933  0.99997674  0.99997674  0.99997416\n  0.99997674  0.99997933  0.99997674  0.99997674  0.99997416  0.99997416\n  0.99997674  0.99997674  0.99997674  0.99997416  0.99997674  0.99997674\n  0.99997674]\n"
     ]
    }
   ],
   "source": [
    "y=gsearch1.cv_results_['mean_test_score']\n",
    "print(y)"
   ]
  },
  {
   "cell_type": "code",
   "execution_count": 14,
   "metadata": {},
   "outputs": [
    {
     "data": {
      "image/png": "[encoded data removed]",
      "text/plain": [
       "<matplotlib.figure.Figure at 0x6c96fa5f60>"
      ]
     },
     "metadata": {},
     "output_type": "display_data"
    }
   ],
   "source": [
    "plt.figure()\n",
    "plt.grid()\n",
    "plt.plot(x,y)\n",
    "plt.show()"
   ]
  },
  {
   "cell_type": "code",
   "execution_count": 19,
   "metadata": {},
   "outputs": [
    {
     "name": "stdout",
     "output_type": "stream",
     "text": [
      "[1]\n"
     ]
    }
   ],
   "source": [
    "score=[]\n",
    "score.append(1)\n",
    "print(score)"
   ]
  },
  {
   "cell_type": "code",
   "execution_count": 20,
   "metadata": {},
   "outputs": [
    {
     "name": "stdout",
     "output_type": "stream",
     "text": [
      "[1, 2]\n"
     ]
    }
   ],
   "source": [
    "score.append(2)\n",
    "print(score)"
   ]
  },
  {
   "cell_type": "code",
   "execution_count": null,
   "metadata": {},
   "outputs": [],
   "source": [
    ""
   ]
  }
 ],
 "metadata": {
  "kernelspec": {
   "display_name": "Python 2",
   "language": "python",
   "name": "python2"
  },
  "language_info": {
   "codemirror_mode": {
    "name": "ipython",
    "version": 2.0
   },
   "file_extension": ".py",
   "mimetype": "text/x-python",
   "name": "python",
   "nbconvert_exporter": "python",
   "pygments_lexer": "ipython2",
   "version": "2.7.6"
  }
 },
 "nbformat": 4,
 "nbformat_minor": 0
}