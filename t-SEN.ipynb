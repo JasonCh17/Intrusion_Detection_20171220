{
 "cells": [
  {
   "cell_type": "code",
   "execution_count": 57,
   "metadata": {},
   "outputs": [],
   "source": [
    "# 读取数据\n",
    "\n",
    "import pandas as pd #数据分析\n",
    "import numpy as np #科学计算\n",
    "from pandas import Series,DataFrame\n",
    "col_names = [\"duration\",\"protocol_type\",\"service\",\"flag\",\"src_bytes\",\n",
    "    \"dst_bytes\",\"land\",\"wrong_fragment\",\"urgent\",\"hot\",\"num_failed_logins\",\n",
    "    \"logged_in\",\"num_compromised\",\"root_shell\",\"su_attempted\",\"num_root\",\n",
    "    \"num_file_creations\",\"num_shells\",\"num_access_files\",\"num_outbound_cmds\",\n",
    "    \"is_host_login\",\"is_guest_login\",\"count\",\"srv_count\",\"serror_rate\",\n",
    "    \"srv_serror_rate\",\"rerror_rate\",\"srv_rerror_rate\",\"same_srv_rate\",\n",
    "    \"diff_srv_rate\",\"srv_diff_host_rate\",\"dst_host_count\",\"dst_host_srv_count\",\n",
    "    \"dst_host_same_srv_rate\",\"dst_host_diff_srv_rate\",\"dst_host_same_src_port_rate\",\n",
    "    \"dst_host_srv_diff_host_rate\",\"dst_host_serror_rate\",\"dst_host_srv_serror_rate\",\n",
    "    \"dst_host_rerror_rate\",\"dst_host_srv_rerror_rate\",\"label\"]\n",
    "data= pd.read_csv(\"E:\\Pycharm\\Intrusion_Detection\\kddcup.data_10_percent.csv\",  header=None,names = col_names)\n",
    "data.head()\n",
    "#去重\n",
    "data_1=data.drop_duplicates()\n",
    "# print(data_1.info())\n",
    "#one-hot\n",
    "dummies_protocol = pd.get_dummies(data_1[\"protocol_type\"], prefix='protocol')\n",
    "dummies_flag = pd.get_dummies(data_1[\"flag\"], prefix='flag')\n",
    "data_2 = pd.concat([data_1, dummies_protocol,dummies_flag], axis=1)\n",
    "# data_2\n",
    "#特征选择\n",
    "#建立X,y\n",
    "feature_selection=[\"duration\",\"src_bytes\",\n",
    "    \"dst_bytes\",\"land\",\"wrong_fragment\",\"urgent\",\"hot\",\"num_failed_logins\",\n",
    "    \"logged_in\",\"num_compromised\",\"root_shell\",\"su_attempted\",\"num_root\",\n",
    "    \"num_file_creations\",\"num_shells\",\"num_access_files\",\"num_outbound_cmds\",\n",
    "    \"is_host_login\",\"is_guest_login\",\"count\",\"srv_count\",\"serror_rate\",\n",
    "    \"srv_serror_rate\",\"rerror_rate\",\"srv_rerror_rate\",\"same_srv_rate\",\n",
    "    \"diff_srv_rate\",\"srv_diff_host_rate\",\"dst_host_count\",\"dst_host_srv_count\",\n",
    "    \"dst_host_same_srv_rate\",\"dst_host_diff_srv_rate\",\"dst_host_same_src_port_rate\",\n",
    "    \"dst_host_srv_diff_host_rate\",\"dst_host_serror_rate\",\"dst_host_srv_serror_rate\",\n",
    "    \"dst_host_rerror_rate\",\"dst_host_srv_rerror_rate\",\"protocol_icmp\",\"protocol_tcp\",\"protocol_udp\",\n",
    "    \"flag_OTH\",\"flag_REJ\",\"flag_RSTO\",\"flag_RSTOS0\",\"flag_RSTR\",\"flag_S0\",\"flag_S1\",\"flag_S2\",\"flag_S3\",\"flag_SF\",\"flag_SH\"]\n",
    "X_3=data_2[feature_selection]\n",
    "y_3=data_2['label'].copy()   #一维\n",
    "##y的处理\n",
    "u2r=[\"buffer_overflow.\",\"loadmodule.\",\"perl.\",\"rootkit.\"]\n",
    "r2l=[\"ftp_write.\",\"imap.\",\"guess_passwd.\",\"phf.\",\"spy.\",\"multihop.\",\"warezmaster.\",\"warezclient.\"]\n",
    "dos=[\"back.\",\"land.\",\"pod.\",\"neptune.\",\"smurf.\",\"teardrop.\"]\n",
    "probe=[\"satan.\",\"portsweep.\",\"ipsweep.\",\"nmap.\"]\n",
    "for i in u2r:\n",
    "    y_3[y_3==i]=4 #u2r\n",
    "for i in r2l:\n",
    "    y_3[y_3==i]=3 #r2l\n",
    "for i in dos:\n",
    "    y_3[y_3==i]=1  #dos\n",
    "for i in probe:\n",
    "    y_3[y_3==i]=2 #probe\n",
    "y_3[y_3==\"normal.\"]=0 #normal"
   ]
  },
  {
   "cell_type": "code",
   "execution_count": 58,
   "metadata": {},
   "outputs": [
    {
     "name": "stdout",
     "output_type": "stream",
     "text": [
      "0         0\n1         0\n2         0\n3         0\n4         0\n5         0\n6         0\n7         0\n8         0\n9         0\n10        0\n11        0\n12        0\n13        0\n14        0\n15        0\n16        0\n17        0\n18        0\n19        0\n20        0\n21        0\n22        0\n23        0\n24        0\n25        0\n26        0\n27        0\n28        0\n29        0\n         ..\n493991    0\n493992    0\n493993    0\n493994    0\n493995    0\n493996    0\n493997    0\n493998    0\n493999    0\n494000    0\n494001    0\n494002    0\n494003    0\n494004    0\n494005    0\n494006    0\n494007    0\n494008    0\n494009    0\n494010    0\n494011    0\n494012    0\n494013    0\n494014    0\n494015    0\n494016    0\n494017    0\n494018    0\n494019    0\n494020    0\nName: label, dtype: object\n"
     ]
    }
   ],
   "source": [
    "print(y_3)"
   ]
  },
  {
   "cell_type": "code",
   "execution_count": 59,
   "metadata": {},
   "outputs": [
    {
     "name": "stdout",
     "output_type": "stream",
     "text": [
      "[0 0 0 ..., 0 0 0]\n"
     ]
    }
   ],
   "source": [
    "y_5=np.array(y_3)\n",
    "print(y_5)\n",
    "# y_4= y_5[:,np.newaxis]\n",
    "# print(y_4)"
   ]
  },
  {
   "cell_type": "code",
   "execution_count": 61,
   "metadata": {},
   "outputs": [
    {
     "data": {
      "text/plain": [
       "array([[  2.18407416, -28.6966362 ],\n       [-21.07651329,  58.38592911],\n       [ -6.43495655,  70.36444855],\n       ..., \n       [-55.57003021,   7.50009441],\n       [ 30.65622139, -36.51931763],\n       [ 46.45974731, -22.85419464]], dtype=float32)"
      ]
     },
     "execution_count": 60,
     "metadata": {},
     "output_type": "execute_result"
    }
   ],
   "source": [
    "from sklearn.model_selection import train_test_split\n",
    "X_train_1,X_test_1,y_train_1,y_test_1=train_test_split(X_3,y_5,test_size=0.1,random_state=0)\n",
    "import numpy as np\n",
    "from sklearn.manifold import TSNE\n",
    "X_embedded = TSNE(n_components=2).fit_transform(X_test_1)\n",
    "X_embedded"
   ]
  },
  {
   "cell_type": "code",
   "execution_count": 37,
   "metadata": {},
   "outputs": [
    {
     "name": "stdout",
     "output_type": "stream",
     "text": [
      "[[1]\n [0]\n [0]\n ..., \n [1]\n [1]\n [1]]\n"
     ]
    }
   ],
   "source": [
    "# print(y_test_1)\n",
    "# print(X_embedded.shape)"
   ]
  },
  {
   "cell_type": "code",
   "execution_count": 39,
   "metadata": {},
   "outputs": [
    {
     "name": "stdout",
     "output_type": "stream",
     "text": [
      "[[21.49517059326172 -10.174467086791992 1]\n [25.254056930541992 -65.265380859375 0]\n [23.412723541259766 -49.113433837890625 0]\n ..., \n [68.0768814086914 -19.94960594177246 1]\n [4.774269104003906 21.688875198364258 1]\n [-5.324077129364014 62.3205680847168 1]]\n"
     ]
    }
   ],
   "source": [
    "# data=np.concatenate((X_embedded,y_test_1),axis=1)\n",
    "# print(data)"
   ]
  },
  {
   "cell_type": "code",
   "execution_count": 54,
   "metadata": {},
   "outputs": [
    {
     "name": "stdout",
     "output_type": "stream",
     "text": [
      "[1 0 0 ..., 1 1 1]\n(14559, 2)\n"
     ]
    }
   ],
   "source": [
    "print(y_test_1)\n",
    "print(X_embedded.shape)"
   ]
  },
  {
   "cell_type": "code",
   "execution_count": 61,
   "metadata": {},
   "outputs": [],
   "source": [
    "import matplotlib.pyplot as plt\n",
    "classes=['normal','probe','dos','u2r','r2l']\n",
    "colors=['blue','red','y','m','g']\n",
    "plt.figure()\n",
    "for label,color in zip(range(len(classes)),colors):\n",
    "    plt.scatter(X_embedded[y_test_1==label,0],\n",
    "                X_embedded[y_test_1==label,1],\n",
    "                label=classes[label],\n",
    "                c=color)\n",
    "plt.legend(loc='best')\n",
    "plt.show()"
   ]
  },
  {
   "cell_type": "code",
   "execution_count": 65,
   "metadata": {},
   "outputs": [
    {
     "name": "stdout",
     "output_type": "stream",
     "text": [
      "0\nnormal\nblue\n1\nprobe\nred\n2\ndos\ny\n3\nu2r\nm\n4\nr2l\ng\n"
     ]
    }
   ],
   "source": [
    "import matplotlib.pyplot as plt\n",
    "classes=['normal','probe','dos','u2r','r2l']\n",
    "colors=['blue','red','y','m','g']\n",
    "# plt.figure()\n",
    "for index,label,color in zip(range(len(classes)),classes,colors):\n",
    "    print(index)\n",
    "    print(label)\n",
    "    print(color)\n",
    "# plt.legend(loc='best')\n",
    "# plt.show()"
   ]
  },
  {
   "cell_type": "code",
   "execution_count": 17,
   "metadata": {},
   "outputs": [
    {
     "name": "stdout",
     "output_type": "stream",
     "text": [
      "[[ 5.1  3.5  1.4  0.2]\n [ 4.9  3.   1.4  0.2]\n [ 4.7  3.2  1.3  0.2]]\n[0 0 0]\n['setosa' 'versicolor' 'virginica']\n"
     ]
    },
    {
     "data": {
      "image/png": "[encoded data removed]",
      "text/plain": [
       "<matplotlib.figure.Figure at 0xf84aa2e0f0>"
      ]
     },
     "metadata": {},
     "output_type": "display_data"
    }
   ],
   "source": [
    "from sklearn.datasets import load_iris\n",
    "#加载数据集\n",
    "iris=load_iris()\n",
    "iris.keys()\n",
    "#数据的条数和维数\n",
    "n_samples,n_features=iris.data.shape\n",
    "#第一个样例\n",
    "print(iris.data[0:3])\n",
    "print(iris.target[0:3])\n",
    "\n",
    "import numpy as np\n",
    "print(iris.target_names)\n",
    "import matplotlib.pyplot as plt\n",
    "#画散点图，第一维的数据作为x轴和第二维的数据作为y轴\n",
    "x_index=0\n",
    "y_index=1\n",
    "colors=['blue','red','y']\n",
    "for label,color in zip(range(len(iris.target_names)),colors):\n",
    "    plt.scatter(iris.data[iris.target==label,x_index],\n",
    "                iris.data[iris.target==label,y_index],\n",
    "                label=iris.target_names[label],\n",
    "                c=color)\n",
    "plt.xlabel(iris.feature_names[x_index])\n",
    "plt.ylabel(iris.feature_names[y_index])\n",
    "plt.legend(loc='upper left')\n",
    "plt.show()"
   ]
  },
  {
   "cell_type": "code",
   "execution_count": 21,
   "metadata": {},
   "outputs": [
    {
     "name": "stdout",
     "output_type": "stream",
     "text": [
      "0\nblue\n1\nred\n2\ny\n"
     ]
    }
   ],
   "source": [
    "for label,color in zip(range(len(iris.target_names)),colors):\n",
    "    print(label)\n",
    "    print(color)"
   ]
  },
  {
   "cell_type": "code",
   "execution_count": 44,
   "metadata": {},
   "outputs": [],
   "source": [
    "from sklearn.preprocessing import StandardScaler\n",
    "scaler_base=StandardScaler().fit(X_3)\n",
    "X=scaler_base.transform(X_3)"
   ]
  },
  {
   "cell_type": "code",
   "execution_count": 45,
   "metadata": {},
   "outputs": [
    {
     "data": {
      "text/plain": [
       "array([[-0.10785024, -0.0042929 ,  0.04259559, ..., -0.0082881 ,\n         0.81524229, -0.01528377],\n       [-0.10785024, -0.00426104, -0.03903628, ..., -0.0082881 ,\n         0.81524229, -0.01528377],\n       [-0.10785024, -0.00426324, -0.02504178, ..., -0.0082881 ,\n         0.81524229, -0.01528377],\n       ..., \n       [-0.10785024, -0.00428082, -0.02729471, ..., -0.0082881 ,\n         0.81524229, -0.01528377],\n       [-0.10785024, -0.00423247, -0.02729471, ..., -0.0082881 ,\n         0.81524229, -0.01528377],\n       [-0.10785024, -0.00427203, -0.02673559, ..., -0.0082881 ,\n         0.81524229, -0.01528377]])"
      ]
     },
     "execution_count": 45,
     "metadata": {},
     "output_type": "execute_result"
    }
   ],
   "source": [
    "X"
   ]
  },
  {
   "cell_type": "code",
   "execution_count": null,
   "metadata": {},
   "outputs": [],
   "source": [
    ""
   ]
  }
 ],
 "metadata": {
  "kernelspec": {
   "display_name": "Python 2",
   "language": "python",
   "name": "python2"
  },
  "language_info": {
   "codemirror_mode": {
    "name": "ipython",
    "version": 2.0
   },
   "file_extension": ".py",
   "mimetype": "text/x-python",
   "name": "python",
   "nbconvert_exporter": "python",
   "pygments_lexer": "ipython2",
   "version": "2.7.6"
  }
 },
 "nbformat": 4,
 "nbformat_minor": 0
}